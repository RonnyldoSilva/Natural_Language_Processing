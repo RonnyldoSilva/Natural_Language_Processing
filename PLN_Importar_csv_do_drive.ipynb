{
  "nbformat": 4,
  "nbformat_minor": 0,
  "metadata": {
    "colab": {
      "name": "PLN-Importar csv do drive.ipynb",
      "provenance": []
    },
    "kernelspec": {
      "name": "python3",
      "display_name": "Python 3"
    }
  },
  "cells": [
    {
      "cell_type": "markdown",
      "metadata": {
        "id": "4QgVcBmoTJo5"
      },
      "source": [
        "## **Importando CSV do Google Drive**\n",
        "\n",
      ]
    },
    {
      "cell_type": "markdown",
      "metadata": {
        "id": "lOU5bc3CUZyx"
      },
      "source": [
        "**Primeiramente, crie uma cópia do zip contendo o csv dos tweets abaixo em sua pasta Colab Notebooks do Google Drive. Recomendo que utilize a conta @ccc e que remova do drive dela qualquer dado pessoal que não queira que APIs visualizem, apenas por precaução**\n",
        "\n",
        "Zip com o csv:\n",
        "https://drive.google.com/file/d/12s4QOrHWU263Ui1QYQuMRn6cpeR_H490/view?usp=sharing"
      ]
    },
    {
      "cell_type": "code",
      "metadata": {
        "id": "Jb34JQB6Sv6d"
      },
      "source": [
        "import pandas\n",
        "import zipfile \n",
        "\n",
        "from google.colab import drive"
      ],
      "execution_count": null,
      "outputs": []
    },
    {
      "cell_type": "markdown",
      "metadata": {
        "id": "3AT6aPYEU1Jh"
      },
      "source": [
        "Monte seus diretórios do Drive pelo colab. Não se preocupe, isso é acessível apenas para você neste notebook\n",
        "\n",
        "Você deve fazer login com a conta google em que o zip foi copiado e inserir o\n",
        "código recebido na entrada do terminal abaixo após executar a célula"
      ]
    },
    {
      "cell_type": "code",
      "metadata": {
        "id": "ztedSjVeTFhD",
        "colab": {
          "base_uri": "https://localhost:8080/"
        },
        "outputId": "0d40ec0b-a0e9-459e-ab50-1bd819765fcc"
      },
      "source": [
        "drive.mount('/content/drive/')\n",
        "\n",
        "# Utilize a lib zipfile para abrir e extrair o zip compartilhado utilizando a \n",
        "# localização do zip no path\n",
        "# Coloque o segundo parâmetro do método ZipFile como 'r' (read) para garantir que o \n",
        "# CSV não será modificado ou excluido\n",
        "zf = zipfile.ZipFile(\"/content/drive/My Drive/Colab Notebooks/simple_tweets_PLN.zip\", 'r')\n",
        "\n",
        "# Extrai e salva localmente o csv:\n",
        "tweets_csv = zf.extractall()"
      ],
      "execution_count": null,
      "outputs": [
        {
          "output_type": "stream",
          "text": [
            "Drive already mounted at /content/drive/; to attempt to forcibly remount, call drive.mount(\"/content/drive/\", force_remount=True).\n"
          ],
          "name": "stdout"
        }
      ]
    },
    {
      "cell_type": "code",
      "metadata": {
        "id": "Z2m4wivWawfW"
      },
      "source": [
        "# Desmonta o drive e retira o acesso a suas pastas:\n",
        "drive.flush_and_unmount()"
      ],
      "execution_count": null,
      "outputs": []
    },
    {
      "cell_type": "markdown",
      "metadata": {
        "id": "LI7yPUCYWjfn"
      },
      "source": [
        "O csv ficará salvo localmente nos arquivos deste colab e não precisará autenticar o drive em outras sessões\n",
        "\n",
        "Agora é possível ler o csv normalmente com o pandas:"
      ]
    },
    {
      "cell_type": "code",
      "metadata": {
        "id": "UJHacDzHWF0J",
        "colab": {
          "base_uri": "https://localhost:8080/"
        },
        "outputId": "bdcb730f-717b-4c9c-91d6-e110b9194c61"
      },
      "source": [
        "tweets = pandas.read_csv('./simple_tweets_PLN.csv')\n",
        "\n",
        "tweets.info()"
      ],
      "execution_count": null,
      "outputs": [
        {
          "output_type": "stream",
          "text": [
            "<class 'pandas.core.frame.DataFrame'>\n",
            "RangeIndex: 531431 entries, 0 to 531430\n",
            "Data columns (total 4 columns):\n",
            " #   Column          Non-Null Count   Dtype \n",
            "---  ------          --------------   ----- \n",
            " 0   Unnamed: 0      531431 non-null  int64 \n",
            " 1   nome_eleitoral  531431 non-null  object\n",
            " 2   partido         531431 non-null  object\n",
            " 3   text            531431 non-null  object\n",
            "dtypes: int64(1), object(3)\n",
            "memory usage: 16.2+ MB\n"
          ],
          "name": "stdout"
        }
      ]
    }
  ]
}
